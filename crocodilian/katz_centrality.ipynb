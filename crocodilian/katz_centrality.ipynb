{
  "cells": [
    {
      "cell_type": "code",
      "execution_count": 1,
      "metadata": {
        "id": "EUpRPFU5nIN0"
      },
      "outputs": [],
      "source": [
        "import csv\n",
        "import json\n",
        "import networkx as nx\n",
        "edges = {}\n",
        "\n",
        "with open('graph.csv', newline='') as graph_csv_file:\n",
        "    reader = csv.DictReader(graph_csv_file)\n",
        "    for row in reader:\n",
        "        edges[row['node']] = json.loads(row['edges_within_category'])['key']\n",
        "        edges[row['node']].extend(json.loads(row['edges_outside_category'])['key'])"
      ]
    },
    {
      "cell_type": "code",
      "execution_count": 2,
      "metadata": {
        "id": "uBSAG_0Anvaq"
      },
      "outputs": [],
      "source": [
        "G = nx.DiGraph()"
      ]
    },
    {
      "cell_type": "code",
      "execution_count": 3,
      "metadata": {
        "id": "JbL89damzRiN"
      },
      "outputs": [],
      "source": [
        "for source_article, target_articles in edges.items():\n",
        "    for target_article in target_articles:\n",
        "        G.add_edge(source_article, target_article)"
      ]
    },
    {
      "cell_type": "code",
      "execution_count": 4,
      "metadata": {
        "id": "YI1FO2qvzVDf"
      },
      "outputs": [],
      "source": [
        "katz_centrality = nx.katz_centrality_numpy(G)"
      ]
    },
    {
      "cell_type": "code",
      "execution_count": 5,
      "metadata": {
        "id": "kimoxCMUDoGA"
      },
      "outputs": [],
      "source": [
        "centrality_values = list(katz_centrality.values())"
      ]
    },
    {
      "cell_type": "code",
      "execution_count": 6,
      "metadata": {
        "colab": {
          "base_uri": "https://localhost:8080/"
        },
        "id": "O94PCXvCDtcw",
        "outputId": "7f1b68ea-1d68-414d-b65c-61d6b852d9a4"
      },
      "outputs": [
        {
          "name": "stdout",
          "output_type": "stream",
          "text": [
            "Mean Centrality: 7.993056239936387e-05\n",
            "Median Centrality: -8.628814641213625e-05\n",
            "Max Centrality: 0.07836152857588681\n",
            "Min Centrality: -0.07102535589550593\n",
            "Standard Deviation of Centrality: 0.00904729059066017\n"
          ]
        }
      ],
      "source": [
        "import numpy as np\n",
        "mean_centrality = np.mean(centrality_values)\n",
        "median_centrality = np.median(centrality_values)\n",
        "max_centrality = np.max(centrality_values)\n",
        "min_centrality = np.min(centrality_values)\n",
        "std_centrality = np.std(centrality_values)\n",
        "\n",
        "\n",
        "print(f\"Mean Centrality: {mean_centrality}\")\n",
        "print(f\"Median Centrality: {median_centrality}\")\n",
        "print(f\"Max Centrality: {max_centrality}\")\n",
        "print(f\"Min Centrality: {min_centrality}\")\n",
        "print(f\"Standard Deviation of Centrality: {std_centrality}\")"
      ]
    },
    {
      "cell_type": "code",
      "execution_count": 8,
      "metadata": {
        "colab": {
          "base_uri": "https://localhost:8080/",
          "height": 472
        },
        "id": "CfhPNejOD68E",
        "outputId": "0f90865d-6816-453d-97b8-da5657bde441"
      },
      "outputs": [
        {
          "data": {
            "image/png": "[encoded data removed]",
            "text/plain": [
              "<Figure size 640x480 with 1 Axes>"
            ]
          },
          "metadata": {},
          "output_type": "display_data"
        }
      ],
      "source": [
        "import matplotlib.pyplot as plt\n",
        "scaling_factor = 10000  # You can adjust this scaling factor as needed\n",
        "scaled_betweenness = {article: centrality * scaling_factor for article, centrality in katz_centrality.items()}\n",
        "\n",
        "# Plot the distribution of scaled betweenness centrality\n",
        "plt.hist(scaled_betweenness.values(), bins=20, color='skyblue', edgecolor='black')\n",
        "plt.xlabel('Scaled Betweenness Centrality')\n",
        "plt.ylabel('Frequency')\n",
        "plt.title('Distribution of Scaled Betweenness Centrality')\n",
        "plt.grid(True)\n",
        "plt.show()"
      ]
    },
    {
      "cell_type": "code",
      "execution_count": 9,
      "metadata": {
        "colab": {
          "base_uri": "https://localhost:8080/"
        },
        "id": "2Rvx_FT2GMmx",
        "outputId": "bf6420a8-97cb-434b-b935-d1bfa4441a73"
      },
      "outputs": [
        {
          "name": "stdout",
          "output_type": "stream",
          "text": [
            "1. Article: Juan Domingo de Monteverde, Betweenness Centrality: 0.07836152857588681\n",
            "2. Article: Simón Bolívar, Betweenness Centrality: 0.07764183217102907\n",
            "3. Article: Antonio José de Sucre, Betweenness Centrality: 0.07747146621793947\n",
            "4. Article: Republic of New Granada, Betweenness Centrality: 0.07426846631863052\n",
            "5. Article: Argentina, Betweenness Centrality: 0.07419236819787754\n",
            "6. Article: Paraguay, Betweenness Centrality: 0.0703558896676108\n",
            "7. Article: Gran Colombia, Betweenness Centrality: 0.07002210210084897\n",
            "8. Article: San Juan Province, Argentina, Betweenness Centrality: 0.06572855981481315\n",
            "9. Article: Battle of Boyacá, Betweenness Centrality: 0.0653473030266842\n",
            "10. Article: Salta Province, Betweenness Centrality: 0.06363908344138401\n",
            "11. Article: Santiago del Estero Province, Betweenness Centrality: 0.0623959202175339\n",
            "12. Article: Jujuy Province, Betweenness Centrality: 0.06230543100896822\n",
            "13. Article: Juan Manuel Cajigal, Betweenness Centrality: 0.06227516579542371\n",
            "14. Article: Upper Peru, Betweenness Centrality: 0.06111857778040793\n",
            "15. Article: Viceroyalty of Peru, Betweenness Centrality: 0.05777390937151627\n",
            "16. Article: Mataco–Guaicuru languages, Betweenness Centrality: 0.056686058507170387\n",
            "17. Article: Mocoví language, Betweenness Centrality: 0.05653748343330177\n",
            "18. Article: Entre Ríos Province, Betweenness Centrality: 0.05597728232041129\n",
            "19. Article: United Provinces of New Granada, Betweenness Centrality: 0.05513641831245516\n",
            "20. Article: Nivaclé language, Betweenness Centrality: 0.05446571536558381\n",
            "21. Article: Angaité language, Betweenness Centrality: 0.054144769277676134\n",
            "22. Article: Kaskihá language, Betweenness Centrality: 0.054144769277676134\n",
            "23. Article: Maká language, Betweenness Centrality: 0.054144769277676134\n",
            "24. Article: Sanapaná language, Betweenness Centrality: 0.054144769277676134\n",
            "25. Article: Colombian Declaration of Independence, Betweenness Centrality: 0.05400932461098852\n",
            "26. Article: Decree of War to the Death, Betweenness Centrality: 0.05396355022641255\n",
            "27. Article: Francisco de Miranda, Betweenness Centrality: 0.05379538575157689\n",
            "28. Article: South America, Betweenness Centrality: 0.05349518758017202\n",
            "29. Article: Matacoan languages, Betweenness Centrality: 0.05321254055995912\n",
            "30. Article: Guaicuruan languages, Betweenness Centrality: 0.053175404361062245\n",
            "31. Article: Toba Qom language, Betweenness Centrality: 0.05296930329649334\n",
            "32. Article: Charruan languages, Betweenness Centrality: 0.05164109347764378\n",
            "33. Article: Mascoian languages, Betweenness Centrality: 0.05149564426216711\n",
            "34. Article: Bolivian War of Independence, Betweenness Centrality: 0.05128169038661478\n",
            "35. Article: Mariano Montilla, Betweenness Centrality: 0.050926709214026374\n",
            "36. Article: Enlhet language, Betweenness Centrality: 0.05090227762405524\n",
            "37. Article: Cristóbal Mendoza, Betweenness Centrality: 0.05031083213470281\n",
            "38. Article: Wichí Lhamtés Güisnay, Betweenness Centrality: 0.04992997324056709\n",
            "39. Article: Wichí Lhamtés Nocten, Betweenness Centrality: 0.04992997324056709\n",
            "40. Article: Wichí Lhamtés Vejoz, Betweenness Centrality: 0.04992997324056709\n",
            "41. Article: Pilagá language, Betweenness Centrality: 0.04992997324056708\n",
            "42. Article: Venezuelan Australians, Betweenness Centrality: 0.049674966465053386\n",
            "43. Article: Wichí language, Betweenness Centrality: 0.04948647769629976\n",
            "44. Article: Payaguá language, Betweenness Centrality: 0.049486477696299755\n",
            "45. Article: Guachí language, Betweenness Centrality: 0.04948647769629975\n",
            "46. Article: Kadiweu language, Betweenness Centrality: 0.04948647769629975\n",
            "47. Article: Maskoy language, Betweenness Centrality: 0.04948647769629975\n",
            "48. Article: Enxet language, Betweenness Centrality: 0.04918538132626327\n",
            "49. Article: Abipón language, Betweenness Centrality: 0.04917827905699224\n",
            "50. Article: Magdalena campaign, Betweenness Centrality: 0.04893626144790209\n"
          ]
        }
      ],
      "source": [
        "sorted_centrality = sorted(katz_centrality.items(), key=lambda x: x[1], reverse=True)\n",
        "top_50_pairs = sorted_centrality[:50]\n",
        "for i, (article, centrality) in enumerate(top_50_pairs, 1):\n",
        "    print(f\"{i}. Article: {article}, Betweenness Centrality: {centrality}\")"
      ]
    }
  ],
  "metadata": {
    "accelerator": "GPU",
    "colab": {
      "gpuType": "T4",
      "provenance": []
    },
    "kernelspec": {
      "display_name": "Python 3",
      "name": "python3"
    },
    "language_info": {
      "name": "python"
    }
  },
  "nbformat": 4,
  "nbformat_minor": 0
}
