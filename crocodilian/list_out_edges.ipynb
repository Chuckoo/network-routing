{
 "cells": [
  {
   "cell_type": "code",
   "execution_count": 1,
   "metadata": {},
   "outputs": [],
   "source": [
    "import wikipedia\n",
    "import csv\n",
    "import json"
   ]
  },
  {
   "cell_type": "code",
   "execution_count": 2,
   "metadata": {},
   "outputs": [],
   "source": [
    "pages = set()\n",
    "\n",
    "with open('nodes.csv', newline='') as nodes_csv_file:\n",
    "    reader = csv.DictReader(nodes_csv_file)\n",
    "    for row in reader:\n",
    "        pages.add(row['node'])"
   ]
  },
  {
   "cell_type": "code",
   "execution_count": 3,
   "metadata": {},
   "outputs": [],
   "source": [
    "pages_outside = set()\n",
    "\n",
    "with open('nodes_outside.csv', newline='') as nodes_csv_file:\n",
    "    reader = csv.DictReader(nodes_csv_file)\n",
    "    for row in reader:\n",
    "        pages_outside.add(row['node'])"
   ]
  },
  {
   "cell_type": "code",
   "execution_count": 4,
   "metadata": {},
   "outputs": [
    {
     "name": "stdout",
     "output_type": "stream",
     "text": [
      "('Connection aborted.', ConnectionResetError(10054, 'An existing connection was forcibly closed by the remote host', None, 10054, None))\n",
      "HTTPConnectionPool(host='en.wikipedia.org', port=80): Read timed out. (read timeout=None)\n"
     ]
    }
   ],
   "source": [
    "graph_csv_fields = [\"node\", \"hop_from_category\", \"edges_within_category\", \"edges_outside_category\"]\n",
    "\n",
    "for page in pages_outside:\n",
    "    links = []\n",
    "    out_links = []\n",
    "    try:\n",
    "        for link in wikipedia.WikipediaPage(title=page).links:\n",
    "            if link in pages:\n",
    "                links.append(link)\n",
    "            elif link in pages_outside:\n",
    "                out_links.append(link)\n",
    "    except Exception as e:\n",
    "        print(e)\n",
    "\n",
    "    with open(\"graph.csv\", 'a', newline='') as graph_csv_file:\n",
    "        writer = csv.DictWriter(graph_csv_file, fieldnames=graph_csv_fields)\n",
    "        writer.writerow({'node': page,\n",
    "                        'hop_from_category': 1,\n",
    "                        'edges_within_category': json.dumps({\"key\":links}),\n",
    "                        'edges_outside_category': json.dumps({\"key\":out_links})\n",
    "        })\n"
   ]
  }
 ],
 "metadata": {
  "kernelspec": {
   "display_name": "Python 3",
   "language": "python",
   "name": "python3"
  },
  "language_info": {
   "codemirror_mode": {
    "name": "ipython",
    "version": 3
   },
   "file_extension": ".py",
   "mimetype": "text/x-python",
   "name": "python",
   "nbconvert_exporter": "python",
   "pygments_lexer": "ipython3",
   "version": "3.12.2"
  }
 },
 "nbformat": 4,
 "nbformat_minor": 2
}
