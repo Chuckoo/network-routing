{
 "cells": [
  {
   "cell_type": "code",
   "execution_count": 2,
   "metadata": {},
   "outputs": [],
   "source": [
    "import wikipediaapi\n",
    "import logging\n",
    "import csv\n",
    "\n",
    "wiki_wiki = wikipediaapi.Wikipedia('MyProjectName (merlin@example.com)', 'en')\n",
    "logging.basicConfig(filename='status',\n",
    "                    filemode='a',\n",
    "                    format='%(asctime)s,%(msecs)d %(name)s %(levelname)s %(message)s',\n",
    "                    datefmt='%H:%M:%S',\n",
    "                    level=logging.INFO)"
   ]
  },
  {
   "cell_type": "code",
   "execution_count": 15,
   "metadata": {},
   "outputs": [],
   "source": [
    "pages = set()\n",
    "categories = set()\n",
    "# count = 0\n",
    "nodes_csv_fields = ['node']\n",
    "with open(\"nodes.csv\", 'a', newline='') as nodes_csv_file:\n",
    "    writer = csv.DictWriter(nodes_csv_file, fieldnames=nodes_csv_fields)\n",
    "    def find_pages(category):\n",
    "        for page in category.categorymembers:\n",
    "            if page.startswith(\"Template:\"):\n",
    "                continue\n",
    "            if page.startswith(\"Category:\"):\n",
    "                if page not in categories:\n",
    "                    # logging.info(\"Explored the \" + page)\n",
    "                    try:\n",
    "                        next_category = wiki_wiki.page(page)\n",
    "                        find_pages(next_category)\n",
    "                    except:\n",
    "                        pass\n",
    "            else:\n",
    "                if page not in pages:\n",
    "                    # count += 1\n",
    "                    # if count % 100 == 0:\n",
    "                        # logging.info(str(count) + \". Added Page: \" + page)\n",
    "                    pages.add(page)\n",
    "                    writer.writerow({'node': page})\n",
    "\n",
    "\n",
    "    seed_category = \"Category: South American History Stubs\"\n",
    "    pages = set()\n",
    "    categories = set([seed_category])\n",
    "    find_pages(wiki_wiki.page(seed_category))\n",
    "    logging.info(\"Found \"+ str(len(pages))+ \" pages\")"
   ]
  }
 ],
 "metadata": {
  "kernelspec": {
   "display_name": "Python 3",
   "language": "python",
   "name": "python3"
  },
  "language_info": {
   "codemirror_mode": {
    "name": "ipython",
    "version": 3
   },
   "file_extension": ".py",
   "mimetype": "text/x-python",
   "name": "python",
   "nbconvert_exporter": "python",
   "pygments_lexer": "ipython3",
   "version": "3.9.13"
  }
 },
 "nbformat": 4,
 "nbformat_minor": 2
}
